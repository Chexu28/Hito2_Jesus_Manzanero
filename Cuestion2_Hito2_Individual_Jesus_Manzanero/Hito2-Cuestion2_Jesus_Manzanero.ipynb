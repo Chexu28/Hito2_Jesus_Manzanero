{
 "cells": [
  {
   "cell_type": "code",
   "execution_count": 18,
   "id": "17f01dab",
   "metadata": {},
   "outputs": [
    {
     "name": "stdout",
     "output_type": "stream",
     "text": [
      "<Response [200]>\n"
     ]
    }
   ],
   "source": [
    "import requests\n",
    "\n",
    "url = \"https://www.chess.com/login_and_go\"\n",
    "\n",
    "user='Chexu2807'\n",
    "passw='Abc123456'\n",
    "\n",
    "payload = {\n",
    "    \"Usuario\":user,\n",
    "    \"Password\":passw,\n",
    "}\n",
    "\n",
    "response = requests.post(url, data=payload)\n",
    "status = response.status_code\n",
    "\n",
    "if status == 200: \n",
    "    \n",
    "        session = requests.Session()\n",
    "        respuesta = session.post(url,data=payload)\n",
    "        print(str(respuesta))\n",
    "        \n",
    "else:\n",
    "    print (\"Error: no se ha podido iniciar sesión\")"
   ]
  },
  {
   "cell_type": "markdown",
   "id": "57965785",
   "metadata": {},
   "source": [
    "### El status code 200 es un código de estado que nos dice que la petición que acabamos de hacer ha sido entendida, enviada y recibida."
   ]
  }
 ],
 "metadata": {
  "kernelspec": {
   "display_name": "Python 3 (ipykernel)",
   "language": "python",
   "name": "python3"
  },
  "language_info": {
   "codemirror_mode": {
    "name": "ipython",
    "version": 3
   },
   "file_extension": ".py",
   "mimetype": "text/x-python",
   "name": "python",
   "nbconvert_exporter": "python",
   "pygments_lexer": "ipython3",
   "version": "3.9.7"
  }
 },
 "nbformat": 4,
 "nbformat_minor": 5
}
